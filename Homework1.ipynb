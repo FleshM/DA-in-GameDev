{
  "nbformat": 4,
  "nbformat_minor": 0,
  "metadata": {
    "colab": {
      "provenance": []
    },
    "kernelspec": {
      "name": "python3",
      "display_name": "Python 3"
    },
    "language_info": {
      "name": "python"
    }
  },
  "cells": [
    {
      "cell_type": "code",
      "execution_count": null,
      "metadata": {
        "colab": {
          "base_uri": "https://localhost:8080/",
          "height": 283
        },
        "id": "I9btshLCLWEk",
        "outputId": "7f5329f7-1de5-4fe6-e8c6-e8eccb761536"
      },
      "outputs": [
        {
          "output_type": "execute_result",
          "data": {
            "text/plain": [
              "<matplotlib.collections.PathCollection at 0x7f3fe2286f10>"
            ]
          },
          "metadata": {},
          "execution_count": 3
        },
        {
          "output_type": "display_data",
          "data": {
            "text/plain": [
              "<Figure size 432x288 with 1 Axes>"
            ],
            "image/png": "[encoded data removed]"
          },
          "metadata": {
            "needs_background": "light"
          }
        }
      ],
      "source": [
        "#Import the required modules, numpy for calculation, and Matplotlib for drawing\n",
        "import numpy as np\n",
        "import matplotlib.pyplot as plt\n",
        "\n",
        "# define data, and change list to array\n",
        "x = [3,21,22,34,54,34,55,67,89,99]\n",
        "x = np.array(x)\n",
        "y = [2,22,24,65,79,82,55,130,150,199]\n",
        "y = np.array(y)\n",
        "\n",
        "#Show the effect of a scatter plot\n",
        "plt.scatter(x,y)"
      ]
    },
    {
      "cell_type": "code",
      "source": [
        "#The basic linear regression model is wx+ b, and since this is a two-dimensional space, the model is ax+b\n",
        "def model(a, b, x):\n",
        "  return a*x + b\n",
        "\n",
        "#The most commonly used loss function of linear regression model is the loss function of mean variance difference\n",
        "def loss_function(a, b, x, y):\n",
        "  num = len(x)\n",
        "  prediction = model(a, b, x)\n",
        "  return (0.5/num) * (np.square(prediction-y)).sum()\n",
        "\n",
        "#The optimization function mainly USES partial derivatives to update two parameters a and b\n",
        "def optimize(a, b, x, y):\n",
        "  num = len(x)\n",
        "  prediction = model(a, b, x)\n",
        "  # Update the values of A and B finding the partial derivatives of the loss function on a and b\n",
        "  da = (1.0/num) * ((prediction - y)*x).sum()\n",
        "  db = (1.0/num) * ((prediction - y).sum())\n",
        "  a = a - Lr*da\n",
        "  b = b - Lr*db\n",
        "  return a, b\n",
        "\n",
        "#Iterated function, return a and b\n",
        "def iterate(a, b, x, y, times):\n",
        "  for i in range(times):\n",
        "    a, b = optimize(a, b, x, y)\n",
        "  return a, b"
      ],
      "metadata": {
        "id": "fF6fpQh2Z7Jg"
      },
      "execution_count": null,
      "outputs": []
    },
    {
      "cell_type": "code",
      "source": [
        "#Initialize parameters and display\n",
        "a = np.random.rand(1)\n",
        "print(a)\n",
        "b = np.random.rand(1)\n",
        "print(b)\n",
        "Lr = 0.000001\n",
        "\n",
        "#For the first iteration, the parameter values, loses, and visualization after the iteration are displayed\n",
        "a, b = iterate(a, b, x, y, 1)\n",
        "prediction = model(a, b, x)\n",
        "loss = loss_function(a, b, x, y)\n",
        "print(a, b, loss)\n",
        "plt.scatter(x, y)\n",
        "plt.plot(x, prediction)"
      ],
      "metadata": {
        "colab": {
          "base_uri": "https://localhost:8080/",
          "height": 338
        },
        "id": "mrnkYPLisTse",
        "outputId": "e607a73f-1f10-444b-92e1-b26694c35910"
      },
      "execution_count": null,
      "outputs": [
        {
          "output_type": "stream",
          "name": "stdout",
          "text": [
            "[0.66000692]\n",
            "[0.48655677]\n",
            "[0.66341598] [0.48660554] 2029.337543475481\n"
          ]
        },
        {
          "output_type": "execute_result",
          "data": {
            "text/plain": [
              "[<matplotlib.lines.Line2D at 0x7f3fd8a3c4d0>]"
            ]
          },
          "metadata": {},
          "execution_count": 27
        },
        {
          "output_type": "display_data",
          "data": {
            "text/plain": [
              "<Figure size 432x288 with 1 Axes>"
            ],
            "image/png": "[encoded data removed]"
          },
          "metadata": {
            "needs_background": "light"
          }
        }
      ]
    },
    {
      "cell_type": "code",
      "source": [
        "# Вторая итерация\n",
        "a, b = iterate(a, b, x, y, 2)\n",
        "prediction = model(a, b, x)\n",
        "loss = loss_function(a, b, x, y)\n",
        "print(a, b, loss)\n",
        "plt.scatter(x, y)\n",
        "plt.plot(x, prediction)"
      ],
      "metadata": {
        "colab": {
          "base_uri": "https://localhost:8080/",
          "height": 301
        },
        "id": "EqXQvOLtt-0e",
        "outputId": "3a54c6c0-76ff-45df-a09f-5c79c67fca50"
      },
      "execution_count": null,
      "outputs": [
        {
          "output_type": "stream",
          "name": "stdout",
          "text": [
            "[0.670202] [0.48670258] 2006.3438996903897\n"
          ]
        },
        {
          "output_type": "execute_result",
          "data": {
            "text/plain": [
              "[<matplotlib.lines.Line2D at 0x7f3fd89b0290>]"
            ]
          },
          "metadata": {},
          "execution_count": 28
        },
        {
          "output_type": "display_data",
          "data": {
            "text/plain": [
              "<Figure size 432x288 with 1 Axes>"
            ],
            "image/png": "[encoded data removed]"
          },
          "metadata": {
            "needs_background": "light"
          }
        }
      ]
    },
    {
      "cell_type": "code",
      "source": [
        "# Третья итерация\n",
        "a, b = iterate(a, b, x, y, 3)\n",
        "prediction = model(a, b, x)\n",
        "loss = loss_function(a, b, x, y)\n",
        "print(a, b, loss)\n",
        "plt.scatter(x, y)\n",
        "plt.plot(x, prediction)"
      ],
      "metadata": {
        "colab": {
          "base_uri": "https://localhost:8080/",
          "height": 301
        },
        "id": "dTa5TpgTuQgp",
        "outputId": "57f3f216-c6a8-48c6-88a8-50d7ff71f55f"
      },
      "execution_count": null,
      "outputs": [
        {
          "output_type": "stream",
          "name": "stdout",
          "text": [
            "[0.68030132] [0.48684693] 1972.3913538431611\n"
          ]
        },
        {
          "output_type": "execute_result",
          "data": {
            "text/plain": [
              "[<matplotlib.lines.Line2D at 0x7f3fd8925510>]"
            ]
          },
          "metadata": {},
          "execution_count": 29
        },
        {
          "output_type": "display_data",
          "data": {
            "text/plain": [
              "<Figure size 432x288 with 1 Axes>"
            ],
            "image/png": "[encoded data removed]"
          },
          "metadata": {
            "needs_background": "light"
          }
        }
      ]
    },
    {
      "cell_type": "code",
      "source": [
        "# Четвертая итерация\n",
        "a, b = iterate(a, b, x, y, 4)\n",
        "prediction = model(a, b, x)\n",
        "loss = loss_function(a, b, x, y)\n",
        "print(a, b, loss)\n",
        "plt.scatter(x, y)\n",
        "plt.plot(x, prediction)"
      ],
      "metadata": {
        "colab": {
          "base_uri": "https://localhost:8080/",
          "height": 301
        },
        "id": "Qy3yyND1uVia",
        "outputId": "b692a18c-fd1f-4282-e13c-ea6dfacfea7a"
      },
      "execution_count": null,
      "outputs": [
        {
          "output_type": "stream",
          "name": "stdout",
          "text": [
            "[0.69361969] [0.48703715] 1928.1066564081295\n"
          ]
        },
        {
          "output_type": "execute_result",
          "data": {
            "text/plain": [
              "[<matplotlib.lines.Line2D at 0x7f3fd8898790>]"
            ]
          },
          "metadata": {},
          "execution_count": 30
        },
        {
          "output_type": "display_data",
          "data": {
            "text/plain": [
              "<Figure size 432x288 with 1 Axes>"
            ],
            "image/png": "[encoded data removed]"
          },
          "metadata": {
            "needs_background": "light"
          }
        }
      ]
    },
    {
      "cell_type": "code",
      "source": [
        "# Пятая итерация\n",
        "a, b = iterate(a, b, x, y, 5)\n",
        "prediction = model(a, b, x)\n",
        "loss = loss_function(a, b, x, y)\n",
        "print(a, b, loss)\n",
        "plt.scatter(x, y)\n",
        "plt.plot(x, prediction)"
      ],
      "metadata": {
        "colab": {
          "base_uri": "https://localhost:8080/",
          "height": 301
        },
        "id": "IJXKobYEuX21",
        "outputId": "b37fa99d-2ba5-402a-d13c-22e9ac59ac6b"
      },
      "execution_count": null,
      "outputs": [
        {
          "output_type": "stream",
          "name": "stdout",
          "text": [
            "[0.71003373] [0.48727136] 1874.295092937386\n"
          ]
        },
        {
          "output_type": "execute_result",
          "data": {
            "text/plain": [
              "[<matplotlib.lines.Line2D at 0x7f3fd8ef2410>]"
            ]
          },
          "metadata": {},
          "execution_count": 31
        },
        {
          "output_type": "display_data",
          "data": {
            "text/plain": [
              "<Figure size 432x288 with 1 Axes>"
            ],
            "image/png": "[encoded data removed]"
          },
          "metadata": {
            "needs_background": "light"
          }
        }
      ]
    },
    {
      "cell_type": "code",
      "source": [
        "# 10000-я итерация\n",
        "a, b = iterate(a, b, x, y, 10000)\n",
        "prediction = model(a, b, x)\n",
        "loss = loss_function(a, b, x, y)\n",
        "print(a, b, loss)\n",
        "plt.scatter(x, y)\n",
        "plt.plot(x, prediction)"
      ],
      "metadata": {
        "colab": {
          "base_uri": "https://localhost:8080/",
          "height": 301
        },
        "id": "rKhqC0T2ubUt",
        "outputId": "aa4b4614-6586-48d8-ea78-85ab21c7101d"
      },
      "execution_count": null,
      "outputs": [
        {
          "output_type": "stream",
          "name": "stdout",
          "text": [
            "[1.74597268] [0.4717019] 190.1990808925811\n"
          ]
        },
        {
          "output_type": "execute_result",
          "data": {
            "text/plain": [
              "[<matplotlib.lines.Line2D at 0x7f3fd8c0fe90>]"
            ]
          },
          "metadata": {},
          "execution_count": 32
        },
        {
          "output_type": "display_data",
          "data": {
            "text/plain": [
              "<Figure size 432x288 with 1 Axes>"
            ],
            "image/png": "[encoded data removed]"
          },
          "metadata": {
            "needs_background": "light"
          }
        }
      ]
    }
  ]
}